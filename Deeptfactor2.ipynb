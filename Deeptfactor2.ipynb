{
 "cells": [
  {
   "cell_type": "code",
   "execution_count": 1,
   "id": "7c830c12",
   "metadata": {
    "colab": {
     "base_uri": "https://localhost:8080/"
    },
    "executionInfo": {
     "elapsed": 3212,
     "status": "ok",
     "timestamp": 1643147190522,
     "user": {
      "displayName": "Erik CD",
      "photoUrl": "https://lh3.googleusercontent.com/a-/AOh14GgjR_CB1cFbETDG1zVSu2x13wwMXBEejKH06KUCcQ=s64",
      "userId": "14476529926322762080"
     },
     "user_tz": 360
    },
    "id": "7c830c12",
    "outputId": "31bff9a3-92ff-439a-a840-c5ee0985da69"
   },
   "outputs": [
    {
     "name": "stdout",
     "output_type": "stream",
     "text": [
      "Requirement already satisfied: biopython in /usr/local/lib/python3.7/dist-packages (1.79)\n",
      "Requirement already satisfied: numpy in /usr/local/lib/python3.7/dist-packages (from biopython) (1.19.5)\n"
     ]
    }
   ],
   "source": [
    "!pip install biopython"
   ]
  },
  {
   "cell_type": "code",
   "execution_count": 2,
   "id": "UVRA-FjvhPGI",
   "metadata": {
    "colab": {
     "base_uri": "https://localhost:8080/"
    },
    "executionInfo": {
     "elapsed": 827,
     "status": "ok",
     "timestamp": 1643147191340,
     "user": {
      "displayName": "Erik CD",
      "photoUrl": "https://lh3.googleusercontent.com/a-/AOh14GgjR_CB1cFbETDG1zVSu2x13wwMXBEejKH06KUCcQ=s64",
      "userId": "14476529926322762080"
     },
     "user_tz": 360
    },
    "id": "UVRA-FjvhPGI",
    "outputId": "22c82846-6ff7-45b8-bdbe-19089792f8ba"
   },
   "outputs": [
    {
     "name": "stdout",
     "output_type": "stream",
     "text": [
      "Drive already mounted at /content/drive; to attempt to forcibly remount, call drive.mount(\"/content/drive\", force_remount=True).\n"
     ]
    }
   ],
   "source": [
    "from google.colab import drive\n",
    "drive.mount('/content/drive')\n",
    "data_path = '/content/drive/MyDrive/Images/Leo_data/'"
   ]
  },
  {
   "cell_type": "code",
   "execution_count": 4,
   "id": "JE25FYfdNd4I",
   "metadata": {
    "executionInfo": {
     "elapsed": 6283,
     "status": "ok",
     "timestamp": 1643147197610,
     "user": {
      "displayName": "Erik CD",
      "photoUrl": "https://lh3.googleusercontent.com/a-/AOh14GgjR_CB1cFbETDG1zVSu2x13wwMXBEejKH06KUCcQ=s64",
      "userId": "14476529926322762080"
     },
     "user_tz": 360
    },
    "id": "JE25FYfdNd4I"
   },
   "outputs": [],
   "source": [
    "# Lectura de datos\n",
    "\n",
    "import numpy as np\n",
    "from Bio import SeqIO\n",
    "from sklearn.model_selection import train_test_split\n",
    "\n",
    "def read_fasta_data(fasta_file):\n",
    "    result = []\n",
    "    seq_ids = []\n",
    "    fp = open(fasta_file, 'r')\n",
    "    for seq_record in SeqIO.parse(fp, 'fasta'):\n",
    "        seq = seq_record.seq\n",
    "        seq_id = seq_record.id\n",
    "        result.append(str(seq))\n",
    "        seq_ids.append(seq_id)\n",
    "    fp.close()\n",
    "    return result, seq_ids\n",
    "\n",
    "FILE_TFS = data_path + 'TFS.fasta'\n",
    "FILE_NOTFS = data_path + 'NoTfs.fasta'\n",
    "\n",
    "seq_tfs, seq_tfs_ids = read_fasta_data(FILE_TFS)\n",
    "seq_notfs, seq_notfs_ids = read_fasta_data(FILE_NOTFS)"
   ]
  },
  {
   "cell_type": "code",
   "execution_count": 5,
   "id": "OozrhFOgSOqS",
   "metadata": {
    "colab": {
     "base_uri": "https://localhost:8080/",
     "height": 573
    },
    "executionInfo": {
     "elapsed": 12317,
     "status": "ok",
     "timestamp": 1643147209919,
     "user": {
      "displayName": "Erik CD",
      "photoUrl": "https://lh3.googleusercontent.com/a-/AOh14GgjR_CB1cFbETDG1zVSu2x13wwMXBEejKH06KUCcQ=s64",
      "userId": "14476529926322762080"
     },
     "user_tz": 360
    },
    "id": "OozrhFOgSOqS",
    "outputId": "03798be9-5212-4eab-dea9-89a1d7b28cdf"
   },
   "outputs": [
    {
     "data": {
      "image/png": "[encoded data removed]",
      "text/plain": [
       "<Figure size 432x288 with 1 Axes>"
      ]
     },
     "metadata": {
      "needs_background": "light"
     },
     "output_type": "display_data"
    },
    {
     "data": {
      "image/png": "[encoded data removed]",
      "text/plain": [
       "<Figure size 432x288 with 1 Axes>"
      ]
     },
     "metadata": {
      "needs_background": "light"
     },
     "output_type": "display_data"
    }
   ],
   "source": [
    "# Generación de histogramas\n",
    "\n",
    "import matplotlib.pyplot as plt\n",
    "\n",
    "lengths_tfs = [len(t) for t in seq_tfs]\n",
    "plt.hist(lengths_tfs , bins = len(set(lengths_tfs)))\n",
    "plt.title('Histogram of lengths TF')\n",
    "plt.xlabel('length')\n",
    "plt.xlim(0, 5000)\n",
    "plt.show()\n",
    "\n",
    "lengths_notfs = [len(t) for t in seq_notfs]\n",
    "plt.hist(lengths_notfs , bins = len(set(lengths_notfs)))\n",
    "plt.title('Histogram of lengths Non-TF')\n",
    "plt.xlabel('length')\n",
    "plt.xlim(0, 5000)\n",
    "plt.show()"
   ]
  },
  {
   "cell_type": "code",
   "execution_count": 6,
   "id": "Nz5gm0HYsfkU",
   "metadata": {
    "colab": {
     "base_uri": "https://localhost:8080/"
    },
    "executionInfo": {
     "elapsed": 17832,
     "status": "ok",
     "timestamp": 1643147227741,
     "user": {
      "displayName": "Erik CD",
      "photoUrl": "https://lh3.googleusercontent.com/a-/AOh14GgjR_CB1cFbETDG1zVSu2x13wwMXBEejKH06KUCcQ=s64",
      "userId": "14476529926322762080"
     },
     "user_tz": 360
    },
    "id": "Nz5gm0HYsfkU",
    "outputId": "3c617ef1-cdd2-49d1-aacf-59b4d527beb5"
   },
   "outputs": [
    {
     "name": "stdout",
     "output_type": "stream",
     "text": [
      "Aminoacids present in tf dataset:  {'M': 393501, 'T': 937471, 'L': 1635739, 'H': 432168, 'K': 1122660, 'A': 1263880, 'S': 1381313, 'G': 1089111, 'Q': 809536, 'I': 929711, 'N': 770279, 'E': 1283973, 'P': 940784, 'R': 1036980, 'V': 1055107, 'Y': 489769, 'D': 964633, 'F': 617858, 'C': 281224, 'W': 154775, 'X': 208, 'B': 1}\n",
      "Aminoacids present in notf dataset:  {'M': 2595292, 'E': 7317267, 'R': 5980916, 'V': 7574681, 'H': 2476718, 'L': 10710632, 'T': 5948054, 'A': 9038372, 'W': 1265820, 'F': 4347475, 'I': 6520966, 'N': 4550490, 'P': 5274856, 'G': 7782340, 'C': 1578319, 'D': 6002803, 'S': 7591396, 'Q': 4233103, 'K': 6363190, 'Y': 3258926, 'X': 6107, 'B': 197, 'U': 238, 'Z': 153, 'O': 6}\n"
     ]
    }
   ],
   "source": [
    "# Conteo de aminoacidos\n",
    "\n",
    "def amino_count(sequences):\n",
    "\n",
    "  amino_input = set()\n",
    "  amino2count = {}\n",
    "\n",
    "  for seq in sequences:\n",
    "\n",
    "    seq_1 = list(seq)\n",
    "\n",
    "    for amino in seq_1:\n",
    "      if amino not in amino_input:\n",
    "        amino_input.add(amino)\n",
    "        amino2count[amino] = 1\n",
    "      else:\n",
    "        amino2count[amino] += 1\n",
    "\n",
    "  return amino2count\n",
    "\n",
    "amino2count_tf = amino_count(seq_tfs)\n",
    "amino2count_notf = amino_count(seq_notfs)\n",
    "\n",
    "print('Aminoacids present in tf dataset: ', amino2count_tf)\n",
    "print('Aminoacids present in notf dataset: ', amino2count_notf)"
   ]
  },
  {
   "cell_type": "code",
   "execution_count": 7,
   "id": "_zzpKhmkuySJ",
   "metadata": {
    "colab": {
     "base_uri": "https://localhost:8080/",
     "height": 573
    },
    "executionInfo": {
     "elapsed": 763,
     "status": "ok",
     "timestamp": 1643147228494,
     "user": {
      "displayName": "Erik CD",
      "photoUrl": "https://lh3.googleusercontent.com/a-/AOh14GgjR_CB1cFbETDG1zVSu2x13wwMXBEejKH06KUCcQ=s64",
      "userId": "14476529926322762080"
     },
     "user_tz": 360
    },
    "id": "_zzpKhmkuySJ",
    "outputId": "c6a1067b-cfae-4a41-bc1e-369a1e5a9156"
   },
   "outputs": [
    {
     "data": {
      "image/png": "[encoded data removed]",
      "text/plain": [
       "<Figure size 432x288 with 1 Axes>"
      ]
     },
     "metadata": {
      "needs_background": "light"
     },
     "output_type": "display_data"
    },
    {
     "data": {
      "image/png": "[encoded data removed]",
      "text/plain": [
       "<Figure size 432x288 with 1 Axes>"
      ]
     },
     "metadata": {
      "needs_background": "light"
     },
     "output_type": "display_data"
    }
   ],
   "source": [
    "# Gráficas histograma de aminoacidos\n",
    "\n",
    "import pandas as pd\n",
    "\n",
    "amino_tf = pd.DataFrame(list(amino2count_tf.items()) , columns = ['Amino', 'Values'])\n",
    "amino_tf = amino_tf.sort_values(by = ['Amino'], ascending = True)\n",
    "ax = amino_tf.plot.bar(x = 'Amino', y = 'Values', rot = 0, title = 'Aminoacids in TF')\n",
    "\n",
    "amino_notf = pd.DataFrame(list(amino2count_notf.items()) , columns = ['Amino', 'Values'])\n",
    "amino_notf = amino_notf.sort_values(by = ['Amino'])\n",
    "ax = amino_notf.plot.bar(x = 'Amino', y = 'Values', rot = 0, title = 'Aminoacids in noTF')"
   ]
  },
  {
   "cell_type": "code",
   "execution_count": 8,
   "id": "0JogRFBXF7ZE",
   "metadata": {
    "colab": {
     "base_uri": "https://localhost:8080/"
    },
    "executionInfo": {
     "elapsed": 3178,
     "status": "ok",
     "timestamp": 1643147231666,
     "user": {
      "displayName": "Erik CD",
      "photoUrl": "https://lh3.googleusercontent.com/a-/AOh14GgjR_CB1cFbETDG1zVSu2x13wwMXBEejKH06KUCcQ=s64",
      "userId": "14476529926322762080"
     },
     "user_tz": 360
    },
    "id": "0JogRFBXF7ZE",
    "outputId": "8d475b43-951f-4b38-bb86-2398ffcbac61"
   },
   "outputs": [
    {
     "name": "stdout",
     "output_type": "stream",
     "text": [
      "Aminoacids present in dataset:  ['A', 'B', 'C', 'D', 'E', 'F', 'G', 'H', 'I', 'K', 'L', 'M', 'N', 'O', 'P', 'Q', 'R', 'S', 'T', 'U', 'V', 'W', 'X', 'Y', 'Z']\n",
      "Number of different aminoacids:  25\n",
      "Aminoacids tokenization:  {'a': 1, 'b': 2, 'c': 3, 'd': 4, 'e': 5, 'f': 6, 'g': 7, 'h': 8, 'i': 9, 'k': 10, 'l': 11, 'm': 12, 'n': 13, 'o': 14, 'p': 15, 'q': 16, 'r': 17, 's': 18, 't': 19, 'u': 20, 'v': 21, 'w': 22, 'x': 23, 'y': 24, 'z': 25}\n",
      "Number of aminoacids tokenized:  25\n",
      "Example of tfs sequence:  MTMTLHTKASGMALLHQIQGNELEPLNRPQLKMPMERALGEVYVDNSKPAVFNYPEGAAYEFNAAAAAAAAGASAPVYGQSSITYGPGSEAAAFGANSLGAFPQLNSVSPSPLMLLHPPPHVSPFLHPHGHQVPYYLENEPSAYAVRDTGPPAFYRSNSDNRRQNGRERLSSSSEKGNMIMESAKETRYCAVCNDYASGYHYGVWSCEGCKAFFKRSIQGHNDYMCPATNQCTIDKNRRKSCQACRLRKCYEVGMMKGGIRKDRRGGRMLKHKRQRDDLEGRNEMGTSGDMRAANLWPSPLVIKHTKKNSPALSLTADQMVSALLDAEPPLIYSEYDPSRPFSEASMMGLLTNLADRELVHMINWAKRVPGFGDLNLHDQVHLLECAWLEILMIGLVWRSMEHPGKLLFAPNLLLDRNQGKCVEGMVEIFDMLLATSSRFRMMNLQGEEFVCLKSIILLNSGVYTFLSSTLKSLEEKDHIHRVLDKINDTLIHLMAKAGLTLQQQHRRLAQLLLILSHIRHMSNKGMEHLYNMKCKNVVPLYDLLLEMLDAHRLHAPASRMGVPPEEPSQSQLTTTSSTSAHSLQTYYIPPEAEGFPNTI\n",
      "Example of tfs sequence tokenized:  [[12, 19, 12, 19, 11, 8, 19, 10, 1, 18, 7, 12, 1, 11, 11, 8, 16, 9, 16, 7, 13, 5, 11, 5, 15, 11, 13, 17, 15, 16, 11, 10, 12, 15, 12, 5, 17, 1, 11, 7, 5, 21, 24, 21, 4, 13, 18, 10, 15, 1, 21, 6, 13, 24, 15, 5, 7, 1, 1, 24, 5, 6, 13, 1, 1, 1, 1, 1, 1, 1, 1, 7, 1, 18, 1, 15, 21, 24, 7, 16, 18, 18, 9, 19, 24, 7, 15, 7, 18, 5, 1, 1, 1, 6, 7, 1, 13, 18, 11, 7, 1, 6, 15, 16, 11, 13, 18, 21, 18, 15, 18, 15, 11, 12, 11, 11, 8, 15, 15, 15, 8, 21, 18, 15, 6, 11, 8, 15, 8, 7, 8, 16, 21, 15, 24, 24, 11, 5, 13, 5, 15, 18, 1, 24, 1, 21, 17, 4, 19, 7, 15, 15, 1, 6, 24, 17, 18, 13, 18, 4, 13, 17, 17, 16, 13, 7, 17, 5, 17, 11, 18, 18, 18, 18, 5, 10, 7, 13, 12, 9, 12, 5, 18, 1, 10, 5, 19, 17, 24, 3, 1, 21, 3, 13, 4, 24, 1, 18, 7, 24, 8, 24, 7, 21, 22, 18, 3, 5, 7, 3, 10, 1, 6, 6, 10, 17, 18, 9, 16, 7, 8, 13, 4, 24, 12, 3, 15, 1, 19, 13, 16, 3, 19, 9, 4, 10, 13, 17, 17, 10, 18, 3, 16, 1, 3, 17, 11, 17, 10, 3, 24, 5, 21, 7, 12, 12, 10, 7, 7, 9, 17, 10, 4, 17, 17, 7, 7, 17, 12, 11, 10, 8, 10, 17, 16, 17, 4, 4, 11, 5, 7, 17, 13, 5, 12, 7, 19, 18, 7, 4, 12, 17, 1, 1, 13, 11, 22, 15, 18, 15, 11, 21, 9, 10, 8, 19, 10, 10, 13, 18, 15, 1, 11, 18, 11, 19, 1, 4, 16, 12, 21, 18, 1, 11, 11, 4, 1, 5, 15, 15, 11, 9, 24, 18, 5, 24, 4, 15, 18, 17, 15, 6, 18, 5, 1, 18, 12, 12, 7, 11, 11, 19, 13, 11, 1, 4, 17, 5, 11, 21, 8, 12, 9, 13, 22, 1, 10, 17, 21, 15, 7, 6, 7, 4, 11, 13, 11, 8, 4, 16, 21, 8, 11, 11, 5, 3, 1, 22, 11, 5, 9, 11, 12, 9, 7, 11, 21, 22, 17, 18, 12, 5, 8, 15, 7, 10, 11, 11, 6, 1, 15, 13, 11, 11, 11, 4, 17, 13, 16, 7, 10, 3, 21, 5, 7, 12, 21, 5, 9, 6, 4, 12, 11, 11, 1, 19, 18, 18, 17, 6, 17, 12, 12, 13, 11, 16, 7, 5, 5, 6, 21, 3, 11, 10, 18, 9, 9, 11, 11, 13, 18, 7, 21, 24, 19, 6, 11, 18, 18, 19, 11, 10, 18, 11, 5, 5, 10, 4, 8, 9, 8, 17, 21, 11, 4, 10, 9, 13, 4, 19, 11, 9, 8, 11, 12, 1, 10, 1, 7, 11, 19, 11, 16, 16, 16, 8, 17, 17, 11, 1, 16, 11, 11, 11, 9, 11, 18, 8, 9, 17, 8, 12, 18, 13, 10, 7, 12, 5, 8, 11, 24, 13, 12, 10, 3, 10, 13, 21, 21, 15, 11, 24, 4, 11, 11, 11, 5, 12, 11, 4, 1, 8, 17, 11, 8, 1, 15, 1, 18, 17, 12, 7, 21, 15, 15, 5, 5, 15, 18, 16, 18, 16, 11, 19, 19, 19, 18, 18, 19, 18, 1, 8, 18, 11, 16, 19, 24, 24, 9, 15, 15, 5, 1, 5, 7, 6, 15, 13, 19, 9]]\n"
     ]
    }
   ],
   "source": [
    "# Tokenization\n",
    "\n",
    "from tensorflow.keras.preprocessing.text import Tokenizer\n",
    "\n",
    "amino_names = list(amino_notf['Amino'])\n",
    "print('Aminoacids present in dataset: ', amino_names)\n",
    "print('Number of different aminoacids: ', len(amino_names))\n",
    "\n",
    "tokenizer = Tokenizer(num_words = len(amino_names), char_level = True)\n",
    "tokenizer.fit_on_texts(amino_names)\n",
    "\n",
    "print('Aminoacids tokenization: ', tokenizer.word_index)\n",
    "print('Number of aminoacids tokenized: ', len(tokenizer.word_index))\n",
    "\n",
    "example_tokenized = tokenizer.texts_to_sequences([seq_tfs[0]])\n",
    "print('Example of tfs sequence: ', seq_tfs[0])\n",
    "print('Example of tfs sequence tokenized: ', example_tokenized)"
   ]
  },
  {
   "cell_type": "code",
   "execution_count": 9,
   "id": "-67bdgg1gNnl",
   "metadata": {
    "colab": {
     "base_uri": "https://localhost:8080/"
    },
    "executionInfo": {
     "elapsed": 6641,
     "status": "ok",
     "timestamp": 1643147238301,
     "user": {
      "displayName": "Erik CD",
      "photoUrl": "https://lh3.googleusercontent.com/a-/AOh14GgjR_CB1cFbETDG1zVSu2x13wwMXBEejKH06KUCcQ=s64",
      "userId": "14476529926322762080"
     },
     "user_tz": 360
    },
    "id": "-67bdgg1gNnl",
    "outputId": "809b37fe-25ba-415e-dd67-45bdb8cbbd55"
   },
   "outputs": [
    {
     "name": "stdout",
     "output_type": "stream",
     "text": [
      "Size of full tfs dataset sequence padded:  (34977, 1024)\n",
      "Length of padded example:  1024\n",
      "Example of tfs sequence padded:  [12 19 12 ...  0  0  0]\n"
     ]
    }
   ],
   "source": [
    "# Zero padding\n",
    "\n",
    "from tensorflow.keras.preprocessing.sequence import pad_sequences\n",
    "\n",
    "def get_sequences(tokenizer , database):\n",
    "  sequences_token = tokenizer.texts_to_sequences(database)\n",
    "  sequences_padded = pad_sequences(sequences_token , truncating = 'post' , \n",
    "                                   padding = 'post' , maxlen = 1024)\n",
    "  return sequences_padded\n",
    "\n",
    "padded_seq_tfs = get_sequences(tokenizer , seq_tfs)\n",
    "\n",
    "print('Size of full tfs dataset sequence padded: ', padded_seq_tfs.shape)\n",
    "print('Length of padded example: ', len(padded_seq_tfs[0]))\n",
    "print('Example of tfs sequence padded: ', padded_seq_tfs[0])"
   ]
  },
  {
   "cell_type": "code",
   "execution_count": 10,
   "id": "ryFooFT_DIbi",
   "metadata": {
    "colab": {
     "base_uri": "https://localhost:8080/"
    },
    "executionInfo": {
     "elapsed": 4209,
     "status": "ok",
     "timestamp": 1643147242500,
     "user": {
      "displayName": "Erik CD",
      "photoUrl": "https://lh3.googleusercontent.com/a-/AOh14GgjR_CB1cFbETDG1zVSu2x13wwMXBEejKH06KUCcQ=s64",
      "userId": "14476529926322762080"
     },
     "user_tz": 360
    },
    "id": "ryFooFT_DIbi",
    "outputId": "29a88956-f387-47ef-d303-b11fdb9fb132"
   },
   "outputs": [
    {
     "name": "stdout",
     "output_type": "stream",
     "text": [
      "Size of full notfs dataset sequence padded:  (35000, 1024)\n",
      "Length of padded example:  1024\n",
      "Example of tfs sequence padded:  [12  5 17 ...  0  0  0]\n"
     ]
    }
   ],
   "source": [
    "padded_seq_notfs = get_sequences(tokenizer , seq_notfs[0:35000])\n",
    "\n",
    "print('Size of full notfs dataset sequence padded: ', padded_seq_notfs.shape)\n",
    "print('Length of padded example: ', len(padded_seq_notfs[0]))\n",
    "print('Example of tfs sequence padded: ', padded_seq_notfs[0])"
   ]
  },
  {
   "cell_type": "code",
   "execution_count": 11,
   "id": "1gecr-mKiCuf",
   "metadata": {
    "colab": {
     "base_uri": "https://localhost:8080/"
    },
    "executionInfo": {
     "elapsed": 150,
     "status": "ok",
     "timestamp": 1643147242640,
     "user": {
      "displayName": "Erik CD",
      "photoUrl": "https://lh3.googleusercontent.com/a-/AOh14GgjR_CB1cFbETDG1zVSu2x13wwMXBEejKH06KUCcQ=s64",
      "userId": "14476529926322762080"
     },
     "user_tz": 360
    },
    "id": "1gecr-mKiCuf",
    "outputId": "fce22b07-e4b3-4937-adbe-44b86804fe11"
   },
   "outputs": [
    {
     "name": "stdout",
     "output_type": "stream",
     "text": [
      "Size of full database concatenated:  (69977, 1024)\n",
      "Size of labels vector:  (69977,)\n"
     ]
    }
   ],
   "source": [
    "# Concatenation and generating labels\n",
    "\n",
    "seq_train = np.concatenate((padded_seq_tfs , padded_seq_notfs))\n",
    "print('Size of full database concatenated: ', seq_train.shape)\n",
    "\n",
    "labels_ones = np.ones((padded_seq_tfs.shape[0],), dtype = int)\n",
    "labels_zeros = np.zeros((padded_seq_notfs.shape[0],), dtype = int)\n",
    "labels = np.concatenate ((labels_ones , labels_zeros))\n",
    "print('Size of labels vector: ', labels.shape)"
   ]
  },
  {
   "cell_type": "markdown",
   "id": "tkUFDw8OqwYK",
   "metadata": {
    "id": "tkUFDw8OqwYK"
   },
   "source": [
    "# LSTM training"
   ]
  },
  {
   "cell_type": "code",
   "execution_count": 12,
   "id": "bJeEl2amrL3H",
   "metadata": {
    "colab": {
     "base_uri": "https://localhost:8080/"
    },
    "executionInfo": {
     "elapsed": 17,
     "status": "ok",
     "timestamp": 1643147242644,
     "user": {
      "displayName": "Erik CD",
      "photoUrl": "https://lh3.googleusercontent.com/a-/AOh14GgjR_CB1cFbETDG1zVSu2x13wwMXBEejKH06KUCcQ=s64",
      "userId": "14476529926322762080"
     },
     "user_tz": 360
    },
    "id": "bJeEl2amrL3H",
    "outputId": "e0626f2d-216d-4d75-c6f5-ce09d5498280"
   },
   "outputs": [
    {
     "name": "stdout",
     "output_type": "stream",
     "text": [
      "TensorFlow Version: 2.7.0\n",
      "Python 3.7.12 (default, Sep 10 2021, 00:21:48) \n",
      "[GCC 7.5.0]\n",
      "GPU is available\n"
     ]
    }
   ],
   "source": [
    "import tensorflow as tf\n",
    "import sys\n",
    "from sklearn.model_selection import train_test_split\n",
    "from keras.callbacks import EarlyStopping, ModelCheckpoint, ReduceLROnPlateau\n",
    "\n",
    "print(\"TensorFlow Version:\", tf.__version__)\n",
    "print(\"Python\", sys.version)\n",
    "\n",
    "gpu = len(tf.config.list_physical_devices('GPU'))>0\n",
    "print(\"GPU is\", \"available\" if gpu else \"NOT AVAILABLE\")"
   ]
  },
  {
   "cell_type": "code",
   "execution_count": 13,
   "id": "RqMbE0g3qr-C",
   "metadata": {
    "colab": {
     "base_uri": "https://localhost:8080/"
    },
    "executionInfo": {
     "elapsed": 2994,
     "status": "ok",
     "timestamp": 1643147245624,
     "user": {
      "displayName": "Erik CD",
      "photoUrl": "https://lh3.googleusercontent.com/a-/AOh14GgjR_CB1cFbETDG1zVSu2x13wwMXBEejKH06KUCcQ=s64",
      "userId": "14476529926322762080"
     },
     "user_tz": 360
    },
    "id": "RqMbE0g3qr-C",
    "outputId": "ffc5b64c-8890-4a5b-e6e0-47ee9cc300c5"
   },
   "outputs": [
    {
     "name": "stdout",
     "output_type": "stream",
     "text": [
      "Model: \"sequential\"\n",
      "_________________________________________________________________\n",
      " Layer (type)                Output Shape              Param #   \n",
      "=================================================================\n",
      " embedding (Embedding)       (None, 1024, 100)         1500000   \n",
      "                                                                 \n",
      " bidirectional (Bidirectiona  (None, 1024, 256)        234496    \n",
      " l)                                                              \n",
      "                                                                 \n",
      " dropout (Dropout)           (None, 1024, 256)         0         \n",
      "                                                                 \n",
      " bidirectional_1 (Bidirectio  (None, 128)              164352    \n",
      " nal)                                                            \n",
      "                                                                 \n",
      " dense (Dense)               (None, 1)                 129       \n",
      "                                                                 \n",
      "=================================================================\n",
      "Total params: 1,898,977\n",
      "Trainable params: 1,898,977\n",
      "Non-trainable params: 0\n",
      "_________________________________________________________________\n"
     ]
    }
   ],
   "source": [
    "model = tf.keras.models.Sequential([\n",
    "                                   tf.keras.layers.Embedding(15000, 100, input_length = 1024),\n",
    "                                   tf.keras.layers.Bidirectional(tf.keras.layers.LSTM(128, return_sequences = True)),\n",
    "                                   tf.keras.layers.Dropout(0.5),\n",
    "                                   tf.keras.layers.Bidirectional(tf.keras.layers.LSTM(64)),\n",
    "                                   tf.keras.layers.Dense(1, activation = 'sigmoid')\n",
    "                                  ])\n",
    "\n",
    "model.compile(\n",
    "              loss = 'binary_crossentropy',\n",
    "              optimizer = 'adam',\n",
    "              metrics =['accuracy']\n",
    "              )\n",
    "\n",
    "model.summary()"
   ]
  },
  {
   "cell_type": "code",
   "execution_count": 14,
   "id": "uCyUGYoprC62",
   "metadata": {
    "colab": {
     "base_uri": "https://localhost:8080/"
    },
    "executionInfo": {
     "elapsed": 259,
     "status": "ok",
     "timestamp": 1643147245872,
     "user": {
      "displayName": "Erik CD",
      "photoUrl": "https://lh3.googleusercontent.com/a-/AOh14GgjR_CB1cFbETDG1zVSu2x13wwMXBEejKH06KUCcQ=s64",
      "userId": "14476529926322762080"
     },
     "user_tz": 360
    },
    "id": "uCyUGYoprC62",
    "outputId": "0928846a-b5de-4dfd-dc4b-be90c018c7f3"
   },
   "outputs": [
    {
     "name": "stdout",
     "output_type": "stream",
     "text": [
      "X_train shape: (55981, 1024) <class 'numpy.ndarray'>\n",
      "y_train shape: (55981,) <class 'numpy.ndarray'>\n",
      "X_valid shape: (13996, 1024) <class 'numpy.ndarray'>\n",
      "y_valid shape: (13996,) <class 'numpy.ndarray'>\n"
     ]
    }
   ],
   "source": [
    "X_train, X_valid, y_train, y_valid = train_test_split(seq_train, labels, test_size = 0.2, \n",
    "                                                      random_state = 1, shuffle = True)\n",
    "print('X_train shape:',X_train.shape, type(X_train))\n",
    "print('y_train shape:',y_train.shape, type(y_train))\n",
    "\n",
    "print('X_valid shape:',X_valid.shape, type(X_valid))\n",
    "print('y_valid shape:',y_valid.shape, type(y_valid))"
   ]
  },
  {
   "cell_type": "code",
   "execution_count": 16,
   "id": "_3NX9Oy8ulS7",
   "metadata": {
    "colab": {
     "base_uri": "https://localhost:8080/"
    },
    "executionInfo": {
     "elapsed": 3796194,
     "status": "ok",
     "timestamp": 1643151072607,
     "user": {
      "displayName": "Erik CD",
      "photoUrl": "https://lh3.googleusercontent.com/a-/AOh14GgjR_CB1cFbETDG1zVSu2x13wwMXBEejKH06KUCcQ=s64",
      "userId": "14476529926322762080"
     },
     "user_tz": 360
    },
    "id": "_3NX9Oy8ulS7",
    "outputId": "ae613bfb-386e-4b60-8477-b848ce34de5b"
   },
   "outputs": [
    {
     "name": "stdout",
     "output_type": "stream",
     "text": [
      "Epoch 1/10\n",
      "438/438 [==============================] - ETA: 0s - loss: 0.6452 - accuracy: 0.6247\n",
      "Epoch 00001: val_loss improved from inf to 0.66887, saving model to model_tfs.h5\n",
      "438/438 [==============================] - 380s 868ms/step - loss: 0.6452 - accuracy: 0.6247 - val_loss: 0.6689 - val_accuracy: 0.5574 - lr: 0.0010\n",
      "Epoch 2/10\n",
      "438/438 [==============================] - ETA: 0s - loss: 0.6562 - accuracy: 0.6114\n",
      "Epoch 00002: val_loss improved from 0.66887 to 0.64296, saving model to model_tfs.h5\n",
      "438/438 [==============================] - 375s 857ms/step - loss: 0.6562 - accuracy: 0.6114 - val_loss: 0.6430 - val_accuracy: 0.6376 - lr: 0.0010\n",
      "Epoch 3/10\n",
      "438/438 [==============================] - ETA: 0s - loss: 0.6208 - accuracy: 0.6597\n",
      "Epoch 00003: val_loss did not improve from 0.64296\n",
      "438/438 [==============================] - 383s 874ms/step - loss: 0.6208 - accuracy: 0.6597 - val_loss: 0.7074 - val_accuracy: 0.6501 - lr: 0.0010\n",
      "Epoch 4/10\n",
      "438/438 [==============================] - ETA: 0s - loss: 0.6098 - accuracy: 0.6700\n",
      "Epoch 00004: val_loss improved from 0.64296 to 0.58848, saving model to model_tfs.h5\n",
      "438/438 [==============================] - 382s 872ms/step - loss: 0.6098 - accuracy: 0.6700 - val_loss: 0.5885 - val_accuracy: 0.6761 - lr: 0.0010\n",
      "Epoch 5/10\n",
      "438/438 [==============================] - ETA: 0s - loss: 0.5770 - accuracy: 0.7004\n",
      "Epoch 00005: val_loss improved from 0.58848 to 0.56973, saving model to model_tfs.h5\n",
      "438/438 [==============================] - 376s 860ms/step - loss: 0.5770 - accuracy: 0.7004 - val_loss: 0.5697 - val_accuracy: 0.7060 - lr: 0.0010\n",
      "Epoch 6/10\n",
      "438/438 [==============================] - ETA: 0s - loss: 0.5605 - accuracy: 0.7150\n",
      "Epoch 00006: val_loss improved from 0.56973 to 0.55422, saving model to model_tfs.h5\n",
      "438/438 [==============================] - 381s 870ms/step - loss: 0.5605 - accuracy: 0.7150 - val_loss: 0.5542 - val_accuracy: 0.7093 - lr: 0.0010\n",
      "Epoch 7/10\n",
      "438/438 [==============================] - ETA: 0s - loss: 0.5464 - accuracy: 0.7246\n",
      "Epoch 00007: val_loss improved from 0.55422 to 0.54417, saving model to model_tfs.h5\n",
      "438/438 [==============================] - 381s 870ms/step - loss: 0.5464 - accuracy: 0.7246 - val_loss: 0.5442 - val_accuracy: 0.7256 - lr: 0.0010\n",
      "Epoch 8/10\n",
      "438/438 [==============================] - ETA: 0s - loss: 0.5337 - accuracy: 0.7347\n",
      "Epoch 00008: val_loss improved from 0.54417 to 0.52849, saving model to model_tfs.h5\n",
      "438/438 [==============================] - 373s 851ms/step - loss: 0.5337 - accuracy: 0.7347 - val_loss: 0.5285 - val_accuracy: 0.7397 - lr: 0.0010\n",
      "Epoch 9/10\n",
      "438/438 [==============================] - ETA: 0s - loss: 0.5207 - accuracy: 0.7447\n",
      "Epoch 00009: val_loss did not improve from 0.52849\n",
      "438/438 [==============================] - 385s 879ms/step - loss: 0.5207 - accuracy: 0.7447 - val_loss: 0.5320 - val_accuracy: 0.7376 - lr: 0.0010\n",
      "Epoch 10/10\n",
      "438/438 [==============================] - ETA: 0s - loss: 0.5118 - accuracy: 0.7520\n",
      "Epoch 00010: val_loss improved from 0.52849 to 0.52674, saving model to model_tfs.h5\n",
      "438/438 [==============================] - 380s 868ms/step - loss: 0.5118 - accuracy: 0.7520 - val_loss: 0.5267 - val_accuracy: 0.7349 - lr: 0.0010\n"
     ]
    }
   ],
   "source": [
    "callbacks = [\n",
    "    EarlyStopping(patience = 8, verbose = 1),\n",
    "    ReduceLROnPlateau(factor = 0.1, patience = 2, min_lr = 0.0001, verbose = 1),\n",
    "    ModelCheckpoint('model_tfs.h5', verbose = 1, save_best_only = True, save_weights_only = False)\n",
    "    ]\n",
    "\n",
    "h = model.fit(X_train, y_train,\n",
    "              validation_data = (X_valid, y_valid),\n",
    "              epochs = 10,\n",
    "              batch_size = 128,\n",
    "              callbacks = callbacks\n",
    "              )"
   ]
  },
  {
   "cell_type": "code",
   "execution_count": 17,
   "id": "KcUQacsra5Rc",
   "metadata": {
    "colab": {
     "base_uri": "https://localhost:8080/",
     "height": 392
    },
    "executionInfo": {
     "elapsed": 1053,
     "status": "ok",
     "timestamp": 1643151108685,
     "user": {
      "displayName": "Erik CD",
      "photoUrl": "https://lh3.googleusercontent.com/a-/AOh14GgjR_CB1cFbETDG1zVSu2x13wwMXBEejKH06KUCcQ=s64",
      "userId": "14476529926322762080"
     },
     "user_tz": 360
    },
    "id": "KcUQacsra5Rc",
    "outputId": "83f7cac4-e173-46be-f5f6-fd0e431f7319"
   },
   "outputs": [
    {
     "data": {
      "image/png": "[encoded data removed]",
      "text/plain": [
       "<Figure size 1152x432 with 2 Axes>"
      ]
     },
     "metadata": {
      "needs_background": "light"
     },
     "output_type": "display_data"
    }
   ],
   "source": [
    "def show_history(h):\n",
    "    epochs_trained = len(h.history['loss'])\n",
    "    plt.figure(figsize=(16, 6))\n",
    "\n",
    "    plt.subplot(1, 2, 1)\n",
    "    plt.plot(range(0, epochs_trained), h.history.get('accuracy'), label='Training')\n",
    "    plt.plot(range(0, epochs_trained), h.history.get('val_accuracy'), label='Validation')\n",
    "    plt.ylim([0., 1.])\n",
    "    plt.xlabel('Epochs')\n",
    "    plt.ylabel('Accuracy')\n",
    "    plt.legend()\n",
    "\n",
    "    plt.subplot(1, 2, 2)\n",
    "    plt.plot(range(0, epochs_trained), h.history.get('loss'), label='Training')\n",
    "    plt.plot(range(0, epochs_trained), h.history.get('val_loss'), label='Validation')\n",
    "    plt.xlabel('Epochs')\n",
    "    plt.ylabel('Loss')\n",
    "    plt.legend()\n",
    "    plt.show()\n",
    "\n",
    "show_history(h)"
   ]
  },
  {
   "cell_type": "markdown",
   "id": "7O5_Dh2vHda9",
   "metadata": {
    "id": "7O5_Dh2vHda9"
   },
   "source": [
    "# Deep TFactor"
   ]
  },
  {
   "cell_type": "code",
   "execution_count": null,
   "id": "951a13d9",
   "metadata": {
    "id": "951a13d9"
   },
   "outputs": [],
   "source": [
    "# import torch packages\n",
    "import torch\n",
    "import torch.nn as nn\n",
    "\n",
    "class DeepTFactor(nn.Module):\n",
    "    def __init__(self, out_features=[0]):\n",
    "        super(DeepTFactor, self).__init__()\n",
    "        self.explainECs = out_features\n",
    "        self.layer_info = [[4, 4, 16], [12, 8, 4], [16, 4, 4]]\n",
    "        self.cnn0 = CNN(self.layer_info)\n",
    "        self.fc1 = nn.Linear(in_features=128*3, out_features=512)\n",
    "        self.bn1 = nn.BatchNorm1d(num_features=512)\n",
    "        self.fc2 = nn.Linear(in_features=512, out_features=len(out_features))\n",
    "        self.bn2 = nn.BatchNorm1d(num_features=len(out_features))\n",
    "        self.out_act = nn.Sigmoid()\n",
    "        self.relu = nn.ReLU()\n",
    "        self.init_weights()\n",
    "\n",
    "\n",
    "    def init_weights(self):\n",
    "        for m in self.modules():\n",
    "            if isinstance(m, nn.Conv2d):\n",
    "                nn.init.xavier_uniform_(m.weight)\n",
    "            elif isinstance(m, nn.Linear):\n",
    "                nn.init.xavier_uniform_(m.weight)\n",
    "\n",
    "        \n",
    "    def forward(self, x):\n",
    "        x = self.cnn0(x)\n",
    "        x = x.view(-1, 128*3)\n",
    "        x = self.relu(self.bn1(self.fc1(x)))\n",
    "        x = self.out_act(self.bn2(self.fc2(x)))\n",
    "        return x\n",
    "\n",
    "\n",
    "class CNN(nn.Module):\n",
    "    '''\n",
    "    Use second level convolution.\n",
    "    channel size: 4 -> 16 \n",
    "                  8 -> 12\n",
    "                  16 -> 4\n",
    "    '''\n",
    "    def __init__(self, layer_info):\n",
    "        super(CNN, self).__init__()\n",
    "        self.relu = nn.ReLU()\n",
    "        self.dropout = nn.Dropout(p=0.1)\n",
    "\n",
    "        self.layers = nn.ModuleList()\n",
    "        pooling_sizes = []\n",
    "        for subnetwork in layer_info:\n",
    "            pooling_size = 0\n",
    "            self.layers += [self.make_subnetwork(subnetwork)]\n",
    "            for kernel in subnetwork:\n",
    "                pooling_size += (-kernel + 1)\n",
    "            pooling_sizes.append(pooling_size)\n",
    "              \n",
    "        if len(set(pooling_sizes)) != 1:\n",
    "            raise \"Different kernel sizes between subnetworks\"\n",
    "        pooling_size = pooling_sizes[0]\n",
    "        num_subnetwork = len(layer_info)\n",
    "        \n",
    "        self.conv = nn.Conv2d(in_channels=128*num_subnetwork, out_channels=128*3, kernel_size=(1,1))\n",
    "        self.batchnorm = nn.BatchNorm2d(num_features=128*3)\n",
    "        self.pool = nn.MaxPool2d(kernel_size=(1000+pooling_size,1), stride=1)\n",
    "\n",
    "\n",
    "    def make_subnetwork(self, subnetwork):\n",
    "        subnetworks = []\n",
    "        for i, kernel in enumerate(subnetwork):\n",
    "            if i == 0:\n",
    "                subnetworks.append(\n",
    "                    nn.Sequential(\n",
    "                        nn.Conv2d(in_channels=1, out_channels=128, kernel_size=(kernel, 21)),\n",
    "                        nn.BatchNorm2d(num_features=128),\n",
    "                        nn.ReLU(),\n",
    "                        nn.Dropout(p=0.1)\n",
    "                    )\n",
    "                )\n",
    "            else:\n",
    "                subnetworks.append(\n",
    "                    nn.Sequential(\n",
    "                        nn.Conv2d(in_channels=128, out_channels=128, kernel_size=(kernel, 1)),\n",
    "                        nn.BatchNorm2d(num_features=128),\n",
    "                        nn.ReLU(),\n",
    "                        nn.Dropout(p=0.1)\n",
    "                    )\n",
    "                )\n",
    "        return nn.Sequential(*subnetworks)\n",
    "\n",
    "        \n",
    "    def forward(self, x):\n",
    "        xs = []\n",
    "        for layer in self.layers:\n",
    "            xs.append(layer(x))\n",
    "        x = torch.cat(xs, dim=1)\n",
    "        x = self.relu(self.batchnorm(self.conv(x)))\n",
    "        x = self.pool(x)\n",
    "        return x"
   ]
  },
  {
   "cell_type": "code",
   "execution_count": null,
   "id": "af952896",
   "metadata": {
    "id": "af952896"
   },
   "outputs": [],
   "source": [
    "import re\n",
    "import logging\n",
    "import argparse\n",
    "\n",
    "import matplotlib\n",
    "matplotlib.use('Agg')\n",
    "import matplotlib.pyplot as plt\n",
    "\n",
    "# import basic python packages\n",
    "import numpy as np\n",
    "\n",
    "from Bio import SeqIO\n",
    "\n",
    "# import torch packages\n",
    "import torch\n",
    "import torch.nn as nn\n",
    "\n",
    "# import scikit learn packages\n",
    "from sklearn.metrics import roc_curve, auc, roc_auc_score\n",
    "from sklearn.metrics import f1_score, precision_score, recall_score\n",
    "\n",
    "\n",
    "def argument_parser(version=None):\n",
    "    def boolean_string(s):\n",
    "        if s not in {'False', 'True'}:\n",
    "            raise ValueError('Not a valid boolean string')\n",
    "        return s == 'True'\n",
    "    \n",
    "    parser = argparse.ArgumentParser()\n",
    "    parser.add_argument('-o', '--output_dir', required=True, \n",
    "                        help='Output directory')\n",
    "    parser.add_argument('-g', '--gpu', required=False, \n",
    "                        default='cpu', help='Specify gpu')\n",
    "    parser.add_argument('-b', '--batch_size', required=False, type=int,\n",
    "                        default=128, help='Batch size')\n",
    "    parser.add_argument('-ckpt', '--checkpoint', required=False, \n",
    "                        default='./trained_model/DeepTFactor_ckpt.pt', help='Checkpoint file')\n",
    "    parser.add_argument('-i', '--seq_file', required=False, \n",
    "                        default='./Dataset/ec_seq.fa', help='Sequence data')\n",
    "    parser.add_argument('-cpu', '--cpu_num', required=False, type=int,\n",
    "                        default=1, help='Number of cpus to use')    \n",
    "    return parser"
   ]
  },
  {
   "cell_type": "markdown",
   "id": "ca970740",
   "metadata": {
    "id": "ca970740"
   },
   "source": [
    "# Codigo Propio\n",
    "\n",
    "1. Se procesan los datos de la siguiente manera, \n",
    "   a. Se elimina aquellas secuencias con más de 1,000 aminoacidos de longitud.\n",
    "   b. Se crean los tensores de NoTFs y TFs\n"
   ]
  },
  {
   "cell_type": "code",
   "execution_count": null,
   "id": "b89a039a",
   "metadata": {
    "id": "b89a039a"
   },
   "outputs": [],
   "source": [
    "def read_data(file, tfs = False):\n",
    "    protein_seqs, seq_ids = read_fasta_data(file)\n",
    "    \n",
    "    if tfs:\n",
    "        pseudo_labels = np.ones((len(protein_seqs)))\n",
    "    else:\n",
    "        pseudo_labels = np.zeros((len(protein_seqs)))\n",
    "    \n",
    "    proteinDataset = EnzymeDataset(protein_seqs, pseudo_labels)\n",
    "    \n",
    "    return protein_seqs, seq_ids, proteinDataset\n",
    "    "
   ]
  },
  {
   "cell_type": "code",
   "execution_count": null,
   "id": "3200a9b9",
   "metadata": {
    "id": "3200a9b9"
   },
   "outputs": [],
   "source": [
    "FILE_TFS = data_path + 'TFS.fasta'\n",
    "FILE_NOTFS = data_path + 'NoTfs.fasta'\n",
    "\n",
    "r_true, s_true , tfs_true = read_data(FILE_TFS, True)\n",
    "r_false ,s_false ,tfs_false = read_data(FILE_NOTFS)"
   ]
  },
  {
   "cell_type": "code",
   "execution_count": null,
   "id": "550cc219",
   "metadata": {
    "id": "550cc219"
   },
   "outputs": [],
   "source": [
    "cont = 0\n",
    "for seq in s_true:\n",
    "    if seq == \"sp|P05621|H2B2_WHEAT\":\n",
    "        print(seq,cont)    \n",
    "    cont += 1\n",
    "    \n",
    "print(s_true[1])\n",
    "print(cont)\n",
    "\n",
    "print(tfs_true[14645][1][:][:])\n",
    "print(tfs_false[14645][1][:][:])"
   ]
  },
  {
   "cell_type": "code",
   "execution_count": null,
   "id": "fef4b113",
   "metadata": {
    "id": "fef4b113"
   },
   "outputs": [],
   "source": []
  }
 ],
 "metadata": {
  "accelerator": "GPU",
  "colab": {
   "collapsed_sections": [],
   "name": "Deeptfactor_erik.ipynb",
   "provenance": [
    {
     "file_id": "1adSZfSlFYfeBalCT8UF9jNdPFLKQPVez",
     "timestamp": 1642793325088
    }
   ]
  },
  "kernelspec": {
   "display_name": "Python 3 (ipykernel)",
   "language": "python",
   "name": "python3"
  },
  "language_info": {
   "codemirror_mode": {
    "name": "ipython",
    "version": 3
   },
   "file_extension": ".py",
   "mimetype": "text/x-python",
   "name": "python",
   "nbconvert_exporter": "python",
   "pygments_lexer": "ipython3",
   "version": "3.9.12"
  }
 },
 "nbformat": 4,
 "nbformat_minor": 5
}
